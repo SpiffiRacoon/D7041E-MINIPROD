{
 "cells": [
  {
   "cell_type": "markdown",
   "metadata": {},
   "source": [
    "Oskar Lundqvist; osauli-0@student.ltu.se\n",
    "\n",
    "Filip Renberg; filren-0@student.ltu.se\n",
    "\n",
    "We are gonna do a simple lab where we train a model using Keras"
   ]
  },
  {
   "cell_type": "markdown",
   "metadata": {},
   "source": [
    "We are gonna use the mnist dataset of digits imported from keras like we did in lab 1 and lab 4."
   ]
  },
  {
   "cell_type": "code",
   "execution_count": 28,
   "metadata": {},
   "outputs": [],
   "source": [
    "import numpy as np\n",
    "import keras\n",
    "from keras import layers\n",
    "from keras.datasets import mnist\n",
    "input_shape = (28,28,1)\n",
    "num_classes = 10\n",
    "\n"
   ]
  },
  {
   "cell_type": "markdown",
   "metadata": {},
   "source": [
    "We preprocess our data"
   ]
  },
  {
   "cell_type": "code",
   "execution_count": 30,
   "metadata": {},
   "outputs": [
    {
     "name": "stdout",
     "output_type": "stream",
     "text": [
      "training shape:  (60000, 28, 28, 1)\n",
      "60000 number of training samples\n",
      "10000 number of testing samples\n"
     ]
    }
   ],
   "source": [
    "(train_data, train_labels), (test_data, test_labels) = mnist.load_data()\n",
    "#normalize input values from RGB to Greyscale [0,1]\n",
    "train_data = train_data.astype(\"float32\")/255\n",
    "test_data = test_data.astype(\"float32\")/255\n",
    "#Make sure images have the correct shape(28,28,1)\n",
    "train_data = np.expand_dims(train_data, -1)\n",
    "\n",
    "test_data = np.expand_dims(test_data, -1)\n",
    "\n",
    "#converts class vectors to binary class matrices\n",
    "train_labels = keras.utils.to_categorical(train_labels, num_classes)\n",
    "test_labels = keras.utils.to_categorical(test_labels, num_classes)\n",
    "\n",
    "print(\"training shape: \", train_data.shape)\n",
    "print(train_data.shape[0], \"number of training samples\")\n",
    "print(test_data.shape[0], \"number of testing samples\")"
   ]
  },
  {
   "cell_type": "markdown",
   "metadata": {},
   "source": [
    "We create our multi-layer neural network in pytorch"
   ]
  },
  {
   "cell_type": "code",
   "execution_count": 31,
   "metadata": {},
   "outputs": [
    {
     "name": "stdout",
     "output_type": "stream",
     "text": [
      "Model: \"sequential_5\"\n",
      "_________________________________________________________________\n",
      " Layer (type)                Output Shape              Param #   \n",
      "=================================================================\n",
      " conv2d_10 (Conv2D)          (None, 26, 26, 32)        320       \n",
      "                                                                 \n",
      " max_pooling2d_10 (MaxPooli  (None, 13, 13, 32)        0         \n",
      " ng2D)                                                           \n",
      "                                                                 \n",
      " conv2d_11 (Conv2D)          (None, 11, 11, 64)        18496     \n",
      "                                                                 \n",
      " max_pooling2d_11 (MaxPooli  (None, 5, 5, 64)          0         \n",
      " ng2D)                                                           \n",
      "                                                                 \n",
      " flatten_5 (Flatten)         (None, 1600)              0         \n",
      "                                                                 \n",
      " dropout_5 (Dropout)         (None, 1600)              0         \n",
      "                                                                 \n",
      " dense_5 (Dense)             (None, 10)                16010     \n",
      "                                                                 \n",
      "=================================================================\n",
      "Total params: 34826 (136.04 KB)\n",
      "Trainable params: 34826 (136.04 KB)\n",
      "Non-trainable params: 0 (0.00 Byte)\n",
      "_________________________________________________________________\n"
     ]
    }
   ],
   "source": [
    "model = keras.Sequential([\n",
    "    keras.Input(shape=input_shape),\n",
    "    layers.Conv2D(32, kernel_size=(3, 3), activation=\"relu\"),\n",
    "    layers.MaxPooling2D(pool_size=[2,2]),\n",
    "    layers.Conv2D(64, kernel_size=(3, 3), activation=\"relu\"),\n",
    "    layers.MaxPooling2D(pool_size=[2,2]),\n",
    "    layers.Flatten(),\n",
    "    layers.Dropout(0.5), #prevents overfitting\n",
    "    layers.Dense(num_classes, activation=\"softmax\")\n",
    "])\n",
    "\n",
    "model.summary()"
   ]
  },
  {
   "cell_type": "markdown",
   "metadata": {},
   "source": [
    "Next we are making a loop for the training phase"
   ]
  },
  {
   "cell_type": "code",
   "execution_count": 32,
   "metadata": {},
   "outputs": [
    {
     "name": "stdout",
     "output_type": "stream",
     "text": [
      "Epoch 1/20\n",
      "WARNING:tensorflow:From c:\\Users\\filip\\.pyenv\\pyenv-win\\versions\\3.11.0\\Lib\\site-packages\\keras\\src\\utils\\tf_utils.py:492: The name tf.ragged.RaggedTensorValue is deprecated. Please use tf.compat.v1.ragged.RaggedTensorValue instead.\n",
      "\n",
      "WARNING:tensorflow:From c:\\Users\\filip\\.pyenv\\pyenv-win\\versions\\3.11.0\\Lib\\site-packages\\keras\\src\\engine\\base_layer_utils.py:384: The name tf.executing_eagerly_outside_functions is deprecated. Please use tf.compat.v1.executing_eagerly_outside_functions instead.\n",
      "\n",
      "422/422 [==============================] - 7s 15ms/step - loss: 0.3658 - accuracy: 0.8895 - val_loss: 0.0863 - val_accuracy: 0.9757\n",
      "Epoch 2/20\n",
      "422/422 [==============================] - 6s 15ms/step - loss: 0.1143 - accuracy: 0.9651 - val_loss: 0.0557 - val_accuracy: 0.9850\n",
      "Epoch 3/20\n",
      "422/422 [==============================] - 6s 15ms/step - loss: 0.0851 - accuracy: 0.9736 - val_loss: 0.0445 - val_accuracy: 0.9882\n",
      "Epoch 4/20\n",
      "422/422 [==============================] - 6s 15ms/step - loss: 0.0727 - accuracy: 0.9781 - val_loss: 0.0427 - val_accuracy: 0.9883\n",
      "Epoch 5/20\n",
      "422/422 [==============================] - 6s 15ms/step - loss: 0.0641 - accuracy: 0.9809 - val_loss: 0.0407 - val_accuracy: 0.9898\n",
      "Epoch 6/20\n",
      "422/422 [==============================] - 6s 15ms/step - loss: 0.0563 - accuracy: 0.9824 - val_loss: 0.0376 - val_accuracy: 0.9892\n",
      "Epoch 7/20\n",
      "422/422 [==============================] - 6s 15ms/step - loss: 0.0543 - accuracy: 0.9832 - val_loss: 0.0343 - val_accuracy: 0.9905\n",
      "Epoch 8/20\n",
      "422/422 [==============================] - 6s 15ms/step - loss: 0.0490 - accuracy: 0.9844 - val_loss: 0.0341 - val_accuracy: 0.9912\n",
      "Epoch 9/20\n",
      "422/422 [==============================] - 6s 15ms/step - loss: 0.0459 - accuracy: 0.9861 - val_loss: 0.0328 - val_accuracy: 0.9920\n",
      "Epoch 10/20\n",
      "422/422 [==============================] - 6s 14ms/step - loss: 0.0431 - accuracy: 0.9865 - val_loss: 0.0344 - val_accuracy: 0.9902\n",
      "Epoch 11/20\n",
      "422/422 [==============================] - 6s 14ms/step - loss: 0.0401 - accuracy: 0.9869 - val_loss: 0.0337 - val_accuracy: 0.9895\n",
      "Epoch 12/20\n",
      "422/422 [==============================] - 6s 15ms/step - loss: 0.0397 - accuracy: 0.9878 - val_loss: 0.0320 - val_accuracy: 0.9917\n",
      "Epoch 13/20\n",
      "422/422 [==============================] - 6s 15ms/step - loss: 0.0351 - accuracy: 0.9883 - val_loss: 0.0306 - val_accuracy: 0.9918\n",
      "Epoch 14/20\n",
      "422/422 [==============================] - 6s 15ms/step - loss: 0.0353 - accuracy: 0.9886 - val_loss: 0.0310 - val_accuracy: 0.9915\n",
      "Epoch 15/20\n",
      "422/422 [==============================] - 6s 15ms/step - loss: 0.0341 - accuracy: 0.9891 - val_loss: 0.0282 - val_accuracy: 0.9922\n",
      "Epoch 16/20\n",
      "422/422 [==============================] - 6s 15ms/step - loss: 0.0328 - accuracy: 0.9893 - val_loss: 0.0272 - val_accuracy: 0.9930\n",
      "Epoch 17/20\n",
      "422/422 [==============================] - 6s 15ms/step - loss: 0.0302 - accuracy: 0.9900 - val_loss: 0.0288 - val_accuracy: 0.9927\n",
      "Epoch 18/20\n",
      "422/422 [==============================] - 6s 15ms/step - loss: 0.0313 - accuracy: 0.9897 - val_loss: 0.0284 - val_accuracy: 0.9930\n",
      "Epoch 19/20\n",
      "422/422 [==============================] - 6s 15ms/step - loss: 0.0293 - accuracy: 0.9905 - val_loss: 0.0295 - val_accuracy: 0.9920\n",
      "Epoch 20/20\n",
      "422/422 [==============================] - 6s 15ms/step - loss: 0.0285 - accuracy: 0.9909 - val_loss: 0.0271 - val_accuracy: 0.9928\n"
     ]
    },
    {
     "data": {
      "text/plain": [
       "<keras.src.callbacks.History at 0x276b2eda150>"
      ]
     },
     "execution_count": 32,
     "metadata": {},
     "output_type": "execute_result"
    }
   ],
   "source": [
    "n_epochs = 20\n",
    "size_batch = 128\n",
    "\n",
    "model.compile(loss=\"categorical_crossentropy\", optimizer=\"adam\", metrics=[\"accuracy\"])\n",
    "model.fit(train_data, train_labels, batch_size=size_batch, epochs=n_epochs, validation_split=0.1)\n"
   ]
  },
  {
   "cell_type": "markdown",
   "metadata": {},
   "source": [
    "We add evaluation for the trained model with regards to loss and accuracy"
   ]
  },
  {
   "cell_type": "code",
   "execution_count": 33,
   "metadata": {},
   "outputs": [
    {
     "name": "stdout",
     "output_type": "stream",
     "text": [
      "accuracy:  0.9961166381835938\n",
      "loss:  0.013298898935317993\n"
     ]
    }
   ],
   "source": [
    "\n",
    "\n",
    "score = model.evaluate(train_data, train_labels, verbose=0)\n",
    "print(\"accuracy: \", score[1])\n",
    "print(\"loss: \", score[0])"
   ]
  }
 ],
 "metadata": {
  "kernelspec": {
   "display_name": "Python 3",
   "language": "python",
   "name": "python3"
  },
  "language_info": {
   "codemirror_mode": {
    "name": "ipython",
    "version": 3
   },
   "file_extension": ".py",
   "mimetype": "text/x-python",
   "name": "python",
   "nbconvert_exporter": "python",
   "pygments_lexer": "ipython3",
   "version": "3.11.0"
  }
 },
 "nbformat": 4,
 "nbformat_minor": 2
}
